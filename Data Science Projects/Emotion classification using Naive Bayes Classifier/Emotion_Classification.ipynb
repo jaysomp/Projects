{
 "cells": [
  {
   "cell_type": "code",
   "execution_count": 1,
   "id": "7e9be72b",
   "metadata": {},
   "outputs": [],
   "source": [
    "#Jaydeep Sompalli \n",
    "\n",
    "\n",
    "import numpy as np\n",
    "import matplotlib.pyplot as plt\n",
    "import pandas as pd\n",
    "import seaborn as sns; sns.set()\n",
    "from sklearn.feature_extraction.text import TfidfVectorizer\n",
    "from sklearn.model_selection import train_test_split\n",
    "from sklearn.naive_bayes import MultinomialNB\n",
    "from sklearn.metrics import accuracy_score, classification_report,f1_score,confusion_matrix\n",
    "import random\n",
    "%matplotlib inline"
   ]
  },
  {
   "cell_type": "code",
   "execution_count": 2,
   "id": "5313becf",
   "metadata": {},
   "outputs": [
    {
     "data": {
      "text/html": [
       "<div>\n",
       "<style scoped>\n",
       "    .dataframe tbody tr th:only-of-type {\n",
       "        vertical-align: middle;\n",
       "    }\n",
       "\n",
       "    .dataframe tbody tr th {\n",
       "        vertical-align: top;\n",
       "    }\n",
       "\n",
       "    .dataframe thead th {\n",
       "        text-align: right;\n",
       "    }\n",
       "</style>\n",
       "<table border=\"1\" class=\"dataframe\">\n",
       "  <thead>\n",
       "    <tr style=\"text-align: right;\">\n",
       "      <th></th>\n",
       "      <th>Comment</th>\n",
       "      <th>Emotion</th>\n",
       "    </tr>\n",
       "  </thead>\n",
       "  <tbody>\n",
       "    <tr>\n",
       "      <th>0</th>\n",
       "      <td>i seriously hate one subject to death but now ...</td>\n",
       "      <td>fear</td>\n",
       "    </tr>\n",
       "    <tr>\n",
       "      <th>1</th>\n",
       "      <td>im so full of life i feel appalled</td>\n",
       "      <td>anger</td>\n",
       "    </tr>\n",
       "    <tr>\n",
       "      <th>2</th>\n",
       "      <td>i sit here to write i start to dig out my feel...</td>\n",
       "      <td>fear</td>\n",
       "    </tr>\n",
       "    <tr>\n",
       "      <th>3</th>\n",
       "      <td>ive been really angry with r and i feel like a...</td>\n",
       "      <td>joy</td>\n",
       "    </tr>\n",
       "    <tr>\n",
       "      <th>4</th>\n",
       "      <td>i feel suspicious if there is no one outside l...</td>\n",
       "      <td>fear</td>\n",
       "    </tr>\n",
       "    <tr>\n",
       "      <th>...</th>\n",
       "      <td>...</td>\n",
       "      <td>...</td>\n",
       "    </tr>\n",
       "    <tr>\n",
       "      <th>95</th>\n",
       "      <td>i am feeling rather grouchy too this morning s...</td>\n",
       "      <td>anger</td>\n",
       "    </tr>\n",
       "    <tr>\n",
       "      <th>96</th>\n",
       "      <td>i feel like the earthquake has also shaken the...</td>\n",
       "      <td>fear</td>\n",
       "    </tr>\n",
       "    <tr>\n",
       "      <th>97</th>\n",
       "      <td>i might be able to recreate the feeling when i...</td>\n",
       "      <td>anger</td>\n",
       "    </tr>\n",
       "    <tr>\n",
       "      <th>98</th>\n",
       "      <td>i woke up feeling positive i was totally in th...</td>\n",
       "      <td>joy</td>\n",
       "    </tr>\n",
       "    <tr>\n",
       "      <th>99</th>\n",
       "      <td>i would just go to the straight point rather t...</td>\n",
       "      <td>fear</td>\n",
       "    </tr>\n",
       "  </tbody>\n",
       "</table>\n",
       "<p>100 rows × 2 columns</p>\n",
       "</div>"
      ],
      "text/plain": [
       "                                              Comment Emotion\n",
       "0   i seriously hate one subject to death but now ...    fear\n",
       "1                  im so full of life i feel appalled   anger\n",
       "2   i sit here to write i start to dig out my feel...    fear\n",
       "3   ive been really angry with r and i feel like a...     joy\n",
       "4   i feel suspicious if there is no one outside l...    fear\n",
       "..                                                ...     ...\n",
       "95  i am feeling rather grouchy too this morning s...   anger\n",
       "96  i feel like the earthquake has also shaken the...    fear\n",
       "97  i might be able to recreate the feeling when i...   anger\n",
       "98  i woke up feeling positive i was totally in th...     joy\n",
       "99  i would just go to the straight point rather t...    fear\n",
       "\n",
       "[100 rows x 2 columns]"
      ]
     },
     "execution_count": 2,
     "metadata": {},
     "output_type": "execute_result"
    }
   ],
   "source": [
    "#Importing data set \n",
    "\n",
    "df = pd.read_csv('Emotion_classify_Data.csv', encoding=\"utf-8\")\n",
    "df.head(100)"
   ]
  },
  {
   "cell_type": "code",
   "execution_count": 3,
   "id": "6ac5a077",
   "metadata": {},
   "outputs": [
    {
     "data": {
      "text/html": [
       "<div>\n",
       "<style scoped>\n",
       "    .dataframe tbody tr th:only-of-type {\n",
       "        vertical-align: middle;\n",
       "    }\n",
       "\n",
       "    .dataframe tbody tr th {\n",
       "        vertical-align: top;\n",
       "    }\n",
       "\n",
       "    .dataframe thead th {\n",
       "        text-align: right;\n",
       "    }\n",
       "</style>\n",
       "<table border=\"1\" class=\"dataframe\">\n",
       "  <thead>\n",
       "    <tr style=\"text-align: right;\">\n",
       "      <th></th>\n",
       "      <th>Comment</th>\n",
       "      <th>Emotion</th>\n",
       "    </tr>\n",
       "  </thead>\n",
       "  <tbody>\n",
       "    <tr>\n",
       "      <th>0</th>\n",
       "      <td>i seriously hate one subject to death but now ...</td>\n",
       "      <td>1</td>\n",
       "    </tr>\n",
       "    <tr>\n",
       "      <th>1</th>\n",
       "      <td>im so full of life i feel appalled</td>\n",
       "      <td>0</td>\n",
       "    </tr>\n",
       "    <tr>\n",
       "      <th>2</th>\n",
       "      <td>i sit here to write i start to dig out my feel...</td>\n",
       "      <td>1</td>\n",
       "    </tr>\n",
       "    <tr>\n",
       "      <th>3</th>\n",
       "      <td>ive been really angry with r and i feel like a...</td>\n",
       "      <td>2</td>\n",
       "    </tr>\n",
       "    <tr>\n",
       "      <th>4</th>\n",
       "      <td>i feel suspicious if there is no one outside l...</td>\n",
       "      <td>1</td>\n",
       "    </tr>\n",
       "    <tr>\n",
       "      <th>...</th>\n",
       "      <td>...</td>\n",
       "      <td>...</td>\n",
       "    </tr>\n",
       "    <tr>\n",
       "      <th>95</th>\n",
       "      <td>i am feeling rather grouchy too this morning s...</td>\n",
       "      <td>0</td>\n",
       "    </tr>\n",
       "    <tr>\n",
       "      <th>96</th>\n",
       "      <td>i feel like the earthquake has also shaken the...</td>\n",
       "      <td>1</td>\n",
       "    </tr>\n",
       "    <tr>\n",
       "      <th>97</th>\n",
       "      <td>i might be able to recreate the feeling when i...</td>\n",
       "      <td>0</td>\n",
       "    </tr>\n",
       "    <tr>\n",
       "      <th>98</th>\n",
       "      <td>i woke up feeling positive i was totally in th...</td>\n",
       "      <td>2</td>\n",
       "    </tr>\n",
       "    <tr>\n",
       "      <th>99</th>\n",
       "      <td>i would just go to the straight point rather t...</td>\n",
       "      <td>1</td>\n",
       "    </tr>\n",
       "  </tbody>\n",
       "</table>\n",
       "<p>100 rows × 2 columns</p>\n",
       "</div>"
      ],
      "text/plain": [
       "                                              Comment  Emotion\n",
       "0   i seriously hate one subject to death but now ...        1\n",
       "1                  im so full of life i feel appalled        0\n",
       "2   i sit here to write i start to dig out my feel...        1\n",
       "3   ive been really angry with r and i feel like a...        2\n",
       "4   i feel suspicious if there is no one outside l...        1\n",
       "..                                                ...      ...\n",
       "95  i am feeling rather grouchy too this morning s...        0\n",
       "96  i feel like the earthquake has also shaken the...        1\n",
       "97  i might be able to recreate the feeling when i...        0\n",
       "98  i woke up feeling positive i was totally in th...        2\n",
       "99  i would just go to the straight point rather t...        1\n",
       "\n",
       "[100 rows x 2 columns]"
      ]
     },
     "execution_count": 3,
     "metadata": {},
     "output_type": "execute_result"
    }
   ],
   "source": [
    "#Encoding Emotion Coloumn \n",
    "mapping = {\"joy\": 2, \"fear\": 1, \"anger\": 0}\n",
    "df[\"Emotion\"] = df[\"Emotion\"].map(mapping)\n",
    "df.head(100)\n"
   ]
  },
  {
   "cell_type": "code",
   "execution_count": 4,
   "id": "084a2fad",
   "metadata": {},
   "outputs": [
    {
     "name": "stdout",
     "output_type": "stream",
     "text": [
      "F1 Score: 0.8812213001795313\n"
     ]
    }
   ],
   "source": [
    "#Creating naive bayes classifier \n",
    "\n",
    "X = df[\"Comment\"]\n",
    "y = df[\"Emotion\"]\n",
    "\n",
    "tfidf_vectorizer = TfidfVectorizer()\n",
    "X = tfidf_vectorizer.fit_transform(X)\n",
    "\n",
    "X_train, X_test, y_train, y_test = train_test_split(X, y, test_size=0.35, random_state=100)\n",
    "\n",
    "naive_bayes = MultinomialNB()\n",
    "naive_bayes.fit(X_train, y_train)\n",
    "\n",
    "\n",
    "y_pred = naive_bayes.predict(X_test)\n",
    "\n",
    "# Evaluate the classifier\n",
    "f1 = f1_score(y_pred, y_test, average=\"weighted\")\n",
    "print(\"F1 Score:\", f1)\n",
    "\n"
   ]
  },
  {
   "cell_type": "code",
   "execution_count": 5,
   "id": "2e5dc8f5",
   "metadata": {},
   "outputs": [
    {
     "data": {
      "image/png": "[encoded data removed]",
      "text/plain": [
       "<Figure size 800x600 with 2 Axes>"
      ]
     },
     "metadata": {},
     "output_type": "display_data"
    }
   ],
   "source": [
    "#Plot confusion matrix \n",
    "cm = confusion_matrix(y_test, y_pred)\n",
    "\n",
    "\n",
    "plt.figure(figsize=(8, 6))\n",
    "sns.heatmap(cm, annot=True, fmt=\"d\", cmap=\"Reds\", xticklabels=[\"anger\", \"fear\", \"joy\"], yticklabels=[\"anger\", \"fear\", \"joy\"])\n",
    "plt.xlabel(\"Predicted Emotion\")\n",
    "plt.ylabel(\"True Emotion\")\n",
    "plt.title(\"Confusion Matrix\")\n",
    "plt.show()"
   ]
  },
  {
   "cell_type": "code",
   "execution_count": 6,
   "id": "a5984929",
   "metadata": {
    "scrolled": false
   },
   "outputs": [
    {
     "name": "stdout",
     "output_type": "stream",
     "text": [
      "Example keywords used by the the classifier:\n",
      "md\n",
      "scared\n",
      "excelent\n",
      "dukes\n",
      "plodded\n",
      "analyze\n",
      "rain\n",
      "than\n",
      "sing\n",
      "nesting\n",
      "bother\n",
      "artists\n",
      "observing\n",
      "judge\n",
      "pundits\n",
      "crushes\n",
      "primaries\n",
      "pies\n",
      "car\n",
      "discussed\n"
     ]
    }
   ],
   "source": [
    "#Prints random 20 keywords used by the classifier\n",
    "\n",
    "feature_names = list(tfidf_vectorizer.get_feature_names_out())\n",
    "\n",
    "\n",
    "num_keywords_to_print = 20\n",
    "random_keywords = random.sample(feature_names, num_keywords_to_print)\n",
    "\n",
    "print(\"Example keywords used by the the classifier:\")\n",
    "for keyword in random_keywords:\n",
    "    print(keyword)"
   ]
  },
  {
   "cell_type": "code",
   "execution_count": 7,
   "id": "1d72670e",
   "metadata": {},
   "outputs": [
    {
     "name": "stdout",
     "output_type": "stream",
     "text": [
      "Enter a comment to be classified: I heard a strange noise in the dark alley, and I think someone's following me.\n",
      "--------------------------------------------------\n",
      "Precicted Emotion: Fear\n"
     ]
    }
   ],
   "source": [
    "#User input allows user to enter a comment to be classified \n",
    "\n",
    "new_comments = [input(\"Enter a comment to be classified: \")]  # Wrap the input in a list\n",
    "new_comments_tfidf = tfidf_vectorizer.transform(new_comments)\n",
    "predicted_emotions = naive_bayes.predict(new_comments_tfidf)\n",
    "\n",
    "if predicted_emotions == 0:\n",
    "    print(\"-\" * 50)\n",
    "    print(\"Predicted Emotion: Anger\")\n",
    "elif predicted_emotions == 1:\n",
    "    print(\"-\" * 50)\n",
    "    print(\"Precicted Emotion: Fear\")\n",
    "elif predicted_emotions == 2:\n",
    "    print(\"-\" * 50)\n",
    "    print(\"Precicted Emotion: Joy\")\n"
   ]
  }
 ],
 "metadata": {
  "kernelspec": {
   "display_name": "Python 3 (ipykernel)",
   "language": "python",
   "name": "python3"
  },
  "language_info": {
   "codemirror_mode": {
    "name": "ipython",
    "version": 3
   },
   "file_extension": ".py",
   "mimetype": "text/x-python",
   "name": "python",
   "nbconvert_exporter": "python",
   "pygments_lexer": "ipython3",
   "version": "3.11.3"
  }
 },
 "nbformat": 4,
 "nbformat_minor": 5
}
